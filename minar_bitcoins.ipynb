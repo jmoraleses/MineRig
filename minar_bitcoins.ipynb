{
  "cells": [
    {
      "cell_type": "markdown",
      "metadata": {
        "id": "WEtMwV1201_E"
      },
      "source": [
        "# Proceso de crear el bloque de minado"
      ]
    },
    {
      "cell_type": "code",
      "execution_count": null,
      "metadata": {
        "id": "ooWohW5G01_P"
      },
      "outputs": [],
      "source": [
        "import urllib.request\n",
        "import urllib.error\n",
        "import urllib.parse\n",
        "import base64\n",
        "import json\n",
        "import hashlib\n",
        "import struct\n",
        "import random\n",
        "import time\n",
        "import os\n",
        "import sys\n",
        "import codecs"
      ]
    },
    {
      "cell_type": "markdown",
      "metadata": {
        "id": "zL5vqIiH01_Q"
      },
      "source": [
        "### Function MerkleRoot"
      ]
    },
    {
      "cell_type": "code",
      "execution_count": null,
      "metadata": {
        "id": "l5xELyYI01_Q"
      },
      "outputs": [],
      "source": [
        "def tx_compute_merkle_root(tx_hashes):\n",
        "    \"\"\"\n",
        "    Compute the Merkle Root of a list of transaction hashes.\n",
        "    Arguments:\n",
        "        tx_hashes (list): list of transaction hashes as ASCII hex strings\n",
        "    Returns:\n",
        "        string: merkle root as a big endian ASCII hex string\n",
        "    \"\"\"\n",
        "\n",
        "    # Convert list of ASCII hex transaction hashes into bytes\n",
        "    tx_hashes = [bytes.fromhex(tx_hash)[::-1] for tx_hash in tx_hashes]\n",
        "\n",
        "    # Iteratively compute the merkle root hash\n",
        "    while len(tx_hashes) > 1:\n",
        "        # Duplicate last hash if the list is odd\n",
        "        if len(tx_hashes) % 2 != 0:\n",
        "            tx_hashes.append(tx_hashes[-1])\n",
        "\n",
        "        tx_hashes_new = []\n",
        "\n",
        "        for i in range(len(tx_hashes) // 2):\n",
        "            # Concatenate the next two\n",
        "            concat = tx_hashes.pop(0) + tx_hashes.pop(0)\n",
        "            # Hash them\n",
        "            concat_hash = hashlib.sha256(hashlib.sha256(concat).digest()).digest()\n",
        "            # Add them to our working list\n",
        "            tx_hashes_new.append(concat_hash)\n",
        "\n",
        "        tx_hashes = tx_hashes_new\n",
        "\n",
        "    # Format the root in big endian ascii hex\n",
        "    return tx_hashes[0][::-1].hex()\n"
      ]
    },
    {
      "cell_type": "markdown",
      "metadata": {
        "id": "xGenU_xS01_Q"
      },
      "source": [
        "### Functions"
      ]
    },
    {
      "cell_type": "code",
      "execution_count": null,
      "metadata": {
        "id": "OoruNKrV01_R"
      },
      "outputs": [],
      "source": [
        "def tx_compute_hash(tx):\n",
        "    \"\"\"\n",
        "    Compute the SHA256 double hash of a transaction.\n",
        "    Arguments:\n",
        "        tx (string): transaction data as an ASCII hex string\n",
        "    Return:\n",
        "        string: transaction hash as an ASCII hex string\n",
        "    \"\"\"\n",
        "\n",
        "    return hashlib.sha256(hashlib.sha256(bytes.fromhex(tx)).digest()).digest()[::-1].hex()\n",
        "\n",
        "def int2bighex(value, width):\n",
        "    \"\"\"\n",
        "    Convert an unsigned integer to a little endian ASCII hex string.\n",
        "    Args:\n",
        "        value (int): value\n",
        "        width (int): byte width\n",
        "    Returns:\n",
        "        string: ASCII hex string\n",
        "    \"\"\"\n",
        "\n",
        "    return value.to_bytes(width, byteorder='big').hex()\n",
        "\n",
        "def int2lehex(value, width):\n",
        "    \"\"\"\n",
        "    Convert an unsigned integer to a little endian ASCII hex string.\n",
        "    Args:\n",
        "        value (int): value\n",
        "        width (int): byte width\n",
        "    Returns:\n",
        "        string: ASCII hex string\n",
        "    \"\"\"\n",
        "\n",
        "    return value.to_bytes(width, byteorder='little').hex()\n",
        "\n",
        "\n",
        "def int2varinthex(value):\n",
        "    \"\"\"\n",
        "    Convert an unsigned integer to little endian varint ASCII hex string.\n",
        "    Args:\n",
        "        value (int): value\n",
        "    Returns:\n",
        "        string: ASCII hex string\n",
        "    \"\"\"\n",
        "\n",
        "    if value < 0xfd:\n",
        "        return int2lehex(value, 1)\n",
        "    elif value <= 0xffff:\n",
        "        return \"fd\" + int2lehex(value, 2)\n",
        "    elif value <= 0xffffffff:\n",
        "        return \"fe\" + int2lehex(value, 4)\n",
        "    else:\n",
        "        return \"ff\" + int2lehex(value, 8)\n",
        "\n",
        "\n",
        "def tx_encode_coinbase_height(height):\n",
        "    \"\"\"\n",
        "    Encode the coinbase height, as per BIP 34:\n",
        "    https://github.com/bitcoin/bips/blob/master/bip-0034.mediawiki\n",
        "    Arguments:\n",
        "        height (int): height of the mined block\n",
        "    Returns:\n",
        "        string: encoded height as an ASCII hex string\n",
        "    \"\"\"\n",
        "\n",
        "    width = (height.bit_length() + 7) // 8\n",
        "\n",
        "    return bytes([width]).hex() + int2lehex(height, width)\n",
        "\n",
        "\n",
        "def bitcoinaddress2hash160(addr):\n",
        "    \"\"\"\n",
        "    Convert a Base58 Bitcoin address to its Hash-160 ASCII hex string.\n",
        "    Args:\n",
        "        addr (string): Base58 Bitcoin address\n",
        "    Returns:\n",
        "        string: Hash-160 ASCII hex string\n",
        "    \"\"\"\n",
        "\n",
        "    table = \"123456789ABCDEFGHJKLMNPQRSTUVWXYZabcdefghijkmnopqrstuvwxyz\"\n",
        "\n",
        "    hash160 = 0\n",
        "    addr = addr[::-1]\n",
        "    for i, c in enumerate(addr):\n",
        "        hash160 += (58 ** i) * table.find(c)\n",
        "\n",
        "    # Convert number to 50-byte ASCII Hex string\n",
        "    hash160 = \"{:050x}\".format(hash160)\n",
        "\n",
        "    # Discard 1-byte network byte at beginning and 4-byte checksum at the end\n",
        "    return hash160[2:50 - 8]\n",
        "\n",
        "def little_to_big(value):\n",
        "#     value = codecs.encode(bytes.fromhex(value), \"hex\").decode('ascii')\n",
        "    ba = bytearray.fromhex(value)\n",
        "    ba.reverse()\n",
        "    s = ''.join(format(x, '02x') for x in ba)\n",
        "    return s"
      ]
    },
    {
      "cell_type": "markdown",
      "metadata": {
        "id": "OH-t9F2v01_S"
      },
      "source": [
        "### Parametros para el bloque 727720"
      ]
    },
    {
      "cell_type": "code",
      "execution_count": null,
      "metadata": {
        "id": "jnkf7Phl01_S"
      },
      "outputs": [],
      "source": [
        "import datetime\n",
        "from datetime import timezone\n",
        "\n",
        "#Coinbase\n",
        "coinbase_message = '\u0004��2b/Foundry USA Pool #dropgold/\u000e�`$C5\u0003�����'\n",
        "address = \"19dENFt4wVwos6xtgwStA6n8bbA57WCS58\"\n",
        "height= 727720\n",
        "fee = 1388933645 # suma de recompensas en satoshis\n",
        "version = 2\n",
        "\n",
        "# Header\n",
        "version_header = 543162368 #0x20800000\n",
        "previousblockhash = \"000000000000000000073849025ef585f83e3b802770aaeb5e7eaa9001781b6d\"\n",
        "merkleroot = \"2aa4efd50ee75f5d4608d41c284916163eb151d81d3be366da749da53b415362\"\n",
        "bits = \"170a3773\"\n",
        "nonce = \"06A45D23\"\n",
        "\n",
        "# UnixTime\n",
        "timestamp = \"17 Mar 2022, 08:52:09\"\n",
        "time_stamp = datetime.datetime.strptime(timestamp,\"%d %b %Y, %H:%M:%S\").replace(tzinfo=timezone.utc).timestamp()\n",
        "time_stamp_hex = int2lehex(int(time_stamp), 4)"
      ]
    },
    {
      "cell_type": "markdown",
      "metadata": {
        "id": "k3w_FRy_01_S"
      },
      "source": [
        "## Block Header"
      ]
    },
    {
      "cell_type": "code",
      "execution_count": null,
      "metadata": {
        "id": "uHNUWgzV01_T"
      },
      "outputs": [],
      "source": [
        "import struct\n",
        "\n",
        "header = \"\"\n",
        "# Version\n",
        "header += int2lehex(version_header, 4) #codecs.encode(bytes.fromhex(int2lehex(version, 4)), \"hex\").decode('ascii') #\n",
        "# Previous Block Hash\n",
        "header += little_to_big(previousblockhash) #codecs.encode(bytes.fromhex(previousblockhash)[::-1], \"hex\").decode('ascii')\n",
        "# Merkle Root Hash\n",
        "header += little_to_big(merkleroot) #codecs.encode(bytes.fromhex(merkleroot)[::-1], \"hex\").decode('ascii')\n",
        "# Time\n",
        "header += time_stamp_hex\n",
        "# Target Bits\n",
        "header += little_to_big(bits) #codecs.encode(bytes.fromhex(bits)[::-1], \"hex\").decode('ascii')\n",
        "# Nonce\n",
        "header += little_to_big(nonce) #codecs.encode(bytes.fromhex(nonce)[::-1], \"hex\").decode('ascii')\n",
        "\n",
        "\n",
        "print(\"Header:\")\n",
        "print(header)"
      ]
    },
    {
      "cell_type": "markdown",
      "metadata": {
        "id": "L3Kct2Tq01_T"
      },
      "source": [
        "## Coinbase transaction"
      ]
    },
    {
      "cell_type": "markdown",
      "metadata": {
        "id": "cTy_yRMK01_T"
      },
      "source": [
        "#### scriptsignature & pubkeyhash"
      ]
    },
    {
      "cell_type": "code",
      "execution_count": null,
      "metadata": {
        "id": "335rXS2Y01_T"
      },
      "outputs": [],
      "source": [
        "import codecs\n",
        "\n",
        "#scriptsig\n",
        "# coinbase_byte = coinbase_message.encode('ascii')\n",
        "# coinbase_message = codecs.encode(coinbase_byte, \"hex\")\n",
        "# coinbase_script = coinbase_message.decode('ascii')\n",
        "# scriptsig = tx_encode_coinbase_height(height) + coinbase_script\n",
        "# print(\"scriptsig: {}\".format(scriptsig))\n",
        "scriptsig = \"03a81a0b04baf632622f466f756e6472792055534120506f6f6c202364726f70676f6c642f0e8060244335030000000000\"\n",
        "print(\"scriptsig: {}\".format(scriptsig))\n",
        "print()\n",
        "\n",
        "#pubkeyhash\n",
        "pubkeyhash = \"76\" + \"a9\" + \"14\" + bitcoinaddress2hash160(address) + \"88\" + \"ac\"\n",
        "print(\"pubkeyhash: {}\".format(pubkeyhash))"
      ]
    },
    {
      "cell_type": "markdown",
      "metadata": {
        "id": "B6nzOMJ301_U"
      },
      "source": [
        "#### coinbase transaction"
      ]
    },
    {
      "cell_type": "code",
      "execution_count": null,
      "metadata": {
        "id": "b-OYg1U201_U"
      },
      "outputs": [],
      "source": [
        "# coinbase transaction\n",
        "\n",
        "tx = \"\"\n",
        "# version\n",
        "tx += int2lehex(version, 4)\n",
        "# in-counter\n",
        "tx += \"000101\"\n",
        "# input[0] prev hash\n",
        "tx += \"0\" * 64\n",
        "# input[0] prev seqnum\n",
        "tx += \"ffffffff\"\n",
        "# input[0] scriptsig len\n",
        "tx += int2varinthex(len(scriptsig) // 2)\n",
        "# input[0] scriptsig\n",
        "tx += scriptsig\n",
        "# input[0] seqnum\n",
        "tx += \"ffffffff\"\n",
        "# out-counter\n",
        "tx += \"02\" # cantidad de transacciones\n",
        "# output[0] value\n",
        "tx += int2bighex(fee, 8)[::-1] #int2lehex(fee, 8) #value of fees\n",
        "# output[0] script len\n",
        "tx += int2varinthex(len(pubkeyhash) // 2)\n",
        "# output[0] script\n",
        "tx += pubkeyhash\n",
        "# lock-time\n",
        "tx += \"00000000\"\n",
        "\n",
        "coinbase = tx\n",
        "print(\"Coinbase:\")\n",
        "print(coinbase)"
      ]
    },
    {
      "cell_type": "markdown",
      "metadata": {
        "id": "tkpaBHMM01_U"
      },
      "source": [
        "#### Transacciones para cobrar:"
      ]
    },
    {
      "cell_type": "code",
      "execution_count": null,
      "metadata": {
        "id": "JlJ3rTvf01_U"
      },
      "outputs": [],
      "source": [
        "\n",
        "block = coinbase\n",
        "block += \"00000000\" + \"26\" + \"6a24aa21a9ed31258424c7463f41a61624aeb7bc0879aa4533e428578b320662470a962d22d8\" #+ \"00000000\"\n",
        "block += \"012000000000\" + \"0000000000000000000000000000000000000000000000000000000000000000\"\n"
      ]
    },
    {
      "cell_type": "markdown",
      "metadata": {
        "id": "CFS3UAOt01_U"
      },
      "source": [
        "#### Encontrar hash válido"
      ]
    },
    {
      "cell_type": "code",
      "execution_count": null,
      "metadata": {
        "scrolled": true,
        "id": "kttAR_oQ01_V"
      },
      "outputs": [],
      "source": [
        "# print(\"El bloque debería ser\")\n",
        "# print(\"020000000001010000000000000000000000000000000000000000000000000000000000000000ffffffff3103a81a0b04baf632622f466f756e6472792055534120506f6f6c202364726f70676f6c642f0e8060244335030000000000ffffffff02d0279c25000000001976a9145e9b23809261178723055968d134a947f47e799f88ac0000000000000000266a24aa21a9ed31258424c7463f41a61624aeb7bc0879aa4533e428578b320662470a962d22d80120000000000000000000000000000000000000000000000000000000000000000000000000\")\n",
        "# print()\n",
        "\n",
        "print(\"Block con las transacciones para cobrar y sin el header\")\n",
        "print(block)\n",
        "print()\n",
        "\n",
        "print(\"Header:\")\n",
        "print(header)\n",
        "print()\n",
        "\n",
        "print(\"Hash válido:\")\n",
        "print(tx_compute_hash(header))\n"
      ]
    },
    {
      "cell_type": "code",
      "execution_count": null,
      "metadata": {
        "id": "UOEvhiLY01_V"
      },
      "outputs": [],
      "source": []
    },
    {
      "cell_type": "code",
      "execution_count": null,
      "metadata": {
        "id": "g3yGVGry01_V"
      },
      "outputs": [],
      "source": []
    }
  ],
  "metadata": {
    "accelerator": "GPU",
    "colab": {
      "private_outputs": true,
      "provenance": [],
      "toc_visible": true
    },
    "kernelspec": {
      "display_name": "TensorFlow-GPU-3",
      "language": "python",
      "name": "tf-gpu-3"
    },
    "language_info": {
      "codemirror_mode": {
        "name": "ipython",
        "version": 3
      },
      "file_extension": ".py",
      "mimetype": "text/x-python",
      "name": "python",
      "nbconvert_exporter": "python",
      "pygments_lexer": "ipython3",
      "version": "3.9.7"
    }
  },
  "nbformat": 4,
  "nbformat_minor": 0
}